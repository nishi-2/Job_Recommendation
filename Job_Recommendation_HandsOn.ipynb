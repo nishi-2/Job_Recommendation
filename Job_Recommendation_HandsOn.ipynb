{
  "nbformat": 4,
  "nbformat_minor": 0,
  "metadata": {
    "colab": {
      "provenance": [],
      "collapsed_sections": []
    },
    "kernelspec": {
      "name": "python3",
      "display_name": "Python 3"
    },
    "language_info": {
      "name": "python"
    }
  },
  "cells": [
    {
      "cell_type": "markdown",
      "source": [
        "<h2> Basic Set up </h2>\n",
        "\n",
        "Set up environment for the recommendation system\n",
        "<br>\n",
        " -- Download and install python. <br>\n",
        " -- Download and install an IDE, like jupyter notebook, pycharm, etc. Here I will be using Google colab. </br>\n",
        " -- Start with the project :)"
      ],
      "metadata": {
        "id": "qdw1Zs5Cug0h"
      }
    },
    {
      "cell_type": "markdown",
      "source": [
        "We will need several libraries while progressing with the project. You can install all those using the pip install. For example, pip install pandas, pip install nltk, etc. <br>\n",
        "Google colab environment may have several pre-installed libraries. If you cannot find one, pip install it :)"
      ],
      "metadata": {
        "id": "Fg5U4KODvySb"
      }
    },
    {
      "cell_type": "markdown",
      "source": [
        "<h2> What is Recommendation System? </h2>\n",
        "A recommendation system is a program that helps a user discover a product or any content based on the user's interests or the user's interactions. <br/>\n",
        "Example - Ecommerce websites, social medias, OTT platforms, etc. uses recommendation system. <br/>\n",
        "Recommendation systems takes in user data and uses that data for making predictions on new products or contents which are not seen by the user but probably liked by the user. This will keep the user engaged, as they will get more of what they like. <br><br>\n",
        "There are mainly two types of recommendation system - <br>\n",
        "<ol>\n",
        "<li> Content based Recommendation system - uses the specification of the product, that is the details of the product, and recommends new products based on it. For example, if you read the book of Origin by Dan Brown and tell about it to your friend, your friend might suggest you to read the book of Inferno, by Dan Brown. This is because the genre of both the books shares similarity; also the author is the same.</li>\n",
        "<li> Collaborative filtering - This recommendation is based on the user's ratings on the products in past. It is got nothing to do with the product themselves, unlike content based. For example, a guest came to your house and gave you a chocolate. Your sister is almost like you in choices, so there is a high probability that she will like chocolates too. So the guest gives her one as well. This is collaborative.\n",
        "</ol>\n",
        "<br><br>\n",
        "<h3> How content based recommendation system works? </h3>\n",
        "Suppose you have purchased a t-shirt from Amazon. That t-shirt must be having certain decriptions. Amazon will start recommending you the tshirts which shares almost similar description, pricing, etc. Content based system works well when descriptive data is available for the products. Thus, descriptive data has to be there, which is kind of a disadvantage.\n",
        "<br><br>\n",
        "<h3> How collaborative filtering works? </h3>\n",
        "Suppose you picked up black tshirt, blue jeans. There is another person A who picked up white shirt, brown jeans, nike shoes. There is another person B who picked up black shirt, blue jeans,  puma shoes. It seems like the person B and you have almost similar in taste based on the previous pickings. So the recommender will recommend you puma shoes, as your interests overlap with that of person B. This is what collaborative is, based on user interactions.\n",
        "<br><br>\n",
        "Advantage of collaborative filtering is you do not need to have the knowledge of the product or content at all. It solely depends on user review data. Disadvantage is that you cannot make recommendation if you dont have any user review. Also, it tends to show popular products more.\n"
      ],
      "metadata": {
        "id": "Kxs1k7gAugjk"
      }
    },
    {
      "cell_type": "markdown",
      "source": [
        "<h2> What are vectors ? </h2>\n",
        "Understanding the concept of vectors is important. We need to deal with large arrays of data in ML. These arrays are sometimes called vectors for single column of data and is called matrices for larger arrays. Let's see how to work with vectors - <br>\n",
        "Before that, I would like to brief on SIMD concept. Modern computers have the ability to take a list of numbers and apply mathematical operations on all the numbers parallely. This is known as single instruction, multiple data or SIMD. CPU can load chunk of data into memory and perform mathematical operations at once parallely."
      ],
      "metadata": {
        "id": "WcGjsMt64nfS"
      }
    },
    {
      "cell_type": "code",
      "execution_count": 1,
      "metadata": {
        "id": "di9SFErio4wc",
        "colab": {
          "base_uri": "https://localhost:8080/"
        },
        "outputId": "7ef6263b-4568-4a21-eb0c-824357daa8fe"
      },
      "outputs": [
        {
          "output_type": "stream",
          "name": "stdout",
          "text": [
            "Updating rate at 0   Updating rate at 1   Updating rate at 2   Updating rate at 3   Updating rate at 4   Updating rate at 5   Updating rate at 6   Updating rate at 7   Updating rate at 8   Updating rate at 9   Updating rate at 10   Updating rate at 11   Updating rate at 12   Updating rate at 13   Updating rate at 14   Updating rate at 15   Updating rate at 16   Updating rate at 17   Updating rate at 18   Updating rate at 19   Updating rate at 20   \n",
            "[16, 12, 16, 20, 8, 12, 16, 4, 20, 12, 8, 4, 12, 20, 16, 16, 8, 4, 8, 20, 8]\n"
          ]
        }
      ],
      "source": [
        "dataset_on_rates = [4,3,4,5,2,3,4,1,5,3,2,1,3,5,4,4,2,1,2,5,2]\n",
        "new_rating = []\n",
        "for i, value in enumerate(dataset_on_rates):\n",
        "  print('Updating rate at {}'.format(i), end = '   ')\n",
        "  new_rating.insert(i, (value * 4))\n",
        "\n",
        "print()\n",
        "print(new_rating)"
      ]
    },
    {
      "cell_type": "markdown",
      "source": [
        "While using ML, similar mathematical operations are used over an entire array. Here, we are converting all the ratings from the scale of 5 to the scale of 20 by multiplying by 4.<br>\n",
        "Looping over the list using a for loop and doing the multiplication operation is inefficient. So instead of working in this way, we can make use of SIMD, that is we can load the full array on CPU and perform the multiplication operation at once. This creates a huge difference in speed when working with large dataset. <br><br>\n",
        "For the above reason, it is efficient to work with array libraries that can process data in parallel. This array library is the NumPy. Numpy creates array in the memory in a very efficient way and automatically parallelizes common operation on array. Thus numpy automatically takes the advantage of SIMD feature of CPU. Let's see how the code will be -"
      ],
      "metadata": {
        "id": "1AtgbF6V55FB"
      }
    },
    {
      "cell_type": "code",
      "source": [
        "import numpy as np\n",
        "\n",
        "dataset_on_rates = np.array([4,3,4,5,2,3,4,1,5,3,2,1,3,5,4,4,2,1,2,5,2])\n",
        "new_ratings = dataset_on_rates * 4\n",
        "print(new_ratings)"
      ],
      "metadata": {
        "colab": {
          "base_uri": "https://localhost:8080/"
        },
        "id": "Wu7YC64n5u0i",
        "outputId": "3047140b-e7e4-4996-b253-4233cc8ae07a"
      },
      "execution_count": 4,
      "outputs": [
        {
          "output_type": "stream",
          "name": "stdout",
          "text": [
            "[16 12 16 20  8 12 16  4 20 12  8  4 12 20 16 16  8  4  8 20  8]\n"
          ]
        }
      ]
    },
    {
      "cell_type": "markdown",
      "source": [
        "Most of the operations in an array can be done in parallel following this way. This is known as vectorizing the code. We are replacing iterative codes with vector operations that can be executed in parallel."
      ],
      "metadata": {
        "id": "smAoEGTmOmAb"
      }
    },
    {
      "cell_type": "markdown",
      "source": [
        "<h3> About our project </h3>\n",
        " This project is about job recommendation and is content based. We will go through the job description provided in the dataset and will look into the job title based on that job description. The model will learn the job description for the particular job titles. Then we will pass a job title to recommend other suitable jobs; it will show us certain job titles based on its content based learnings."
      ],
      "metadata": {
        "id": "b0EG6ydXQ_kW"
      }
    },
    {
      "cell_type": "markdown",
      "source": [
        "**Mounting drive**"
      ],
      "metadata": {
        "id": "_p2aIPBhSSoq"
      }
    },
    {
      "cell_type": "code",
      "source": [
        "from google.colab import drive\n",
        "drive.mount('/content/drive')"
      ],
      "metadata": {
        "colab": {
          "base_uri": "https://localhost:8080/"
        },
        "id": "Ci8m-zfZSXr9",
        "outputId": "f29ac13e-2c72-40d0-e1ec-cee480a1dffe"
      },
      "execution_count": 8,
      "outputs": [
        {
          "output_type": "stream",
          "name": "stdout",
          "text": [
            "Mounted at /content/drive\n"
          ]
        }
      ]
    },
    {
      "cell_type": "markdown",
      "source": [
        "**Importing libraries**"
      ],
      "metadata": {
        "id": "Xj0uxbpWSJ1Q"
      }
    },
    {
      "cell_type": "code",
      "source": [
        "import pandas as pd\n",
        "import numpy as np"
      ],
      "metadata": {
        "id": "IAXQhiATOlA9"
      },
      "execution_count": 7,
      "outputs": []
    },
    {
      "cell_type": "markdown",
      "source": [
        "**Loading dataset**"
      ],
      "metadata": {
        "id": "ZuM_41hbSvg-"
      }
    },
    {
      "cell_type": "code",
      "source": [
        "df = pd.read_csv('/content/drive/MyDrive/Python Codes/Global company/naukri_jobs.csv')\n",
        "df.head()"
      ],
      "metadata": {
        "colab": {
          "base_uri": "https://localhost:8080/",
          "height": 617
        },
        "id": "cTz0xGxhSvFx",
        "outputId": "13adad38-a2de-44f9-c360-f3e1829ee5b6"
      },
      "execution_count": 41,
      "outputs": [
        {
          "output_type": "execute_result",
          "data": {
            "text/plain": [
              "                                      company  \\\n",
              "0                            MM Media Pvt Ltd   \n",
              "1                          find live infotech   \n",
              "2         Softtech Career Infosystem Pvt. Ltd   \n",
              "3                      Onboard HRServices LLP   \n",
              "4  Spire Technologies and Solutions Pvt. Ltd.   \n",
              "\n",
              "                                           education   experience  \\\n",
              "0  UG: B.Tech/B.E. - Any Specialization PG:Any Po...    0 - 1 yrs   \n",
              "1  UG: B.Tech/B.E. - Any Specialization PG:MBA/PG...    0 - 0 yrs   \n",
              "2  UG: Any Graduate - Any Specialization PG:Any P...    4 - 8 yrs   \n",
              "3  UG: Any Graduate - Any Specialization PG:CA Do...  11 - 15 yrs   \n",
              "4  UG: B.Tech/B.E. - Any Specialization PG:Any Po...    6 - 8 yrs   \n",
              "\n",
              "                                   industry  \\\n",
              "0          Media / Entertainment / Internet   \n",
              "1  Advertising / PR / MR / Event Management   \n",
              "2           IT-Software / Software Services   \n",
              "3    Banking / Financial Services / Broking   \n",
              "4           IT-Software / Software Services   \n",
              "\n",
              "                                      jobdescription         jobid  \\\n",
              "0  Job Description   Send me Jobs like this Quali...  210516002263   \n",
              "1  Job Description   Send me Jobs like this Quali...  210516002391   \n",
              "2  Job Description   Send me Jobs like this - as ...  101016900534   \n",
              "3  Job Description   Send me Jobs like this - Inv...   81016900536   \n",
              "4  Job Description   Send me Jobs like this Pleas...  120916002122   \n",
              "\n",
              "                                 joblocation_address  \\\n",
              "0                                            Chennai   \n",
              "1                                            Chennai   \n",
              "2                                          Bengaluru   \n",
              "3  Mumbai, Bengaluru, Kolkata, Chennai, Coimbator...   \n",
              "4                                          Bengaluru   \n",
              "\n",
              "                                   jobtitle  numberofpositions  \\\n",
              "0  Walkin Data Entry Operator (night Shift)                NaN   \n",
              "1        Work Based Onhome Based Part Time.               60.0   \n",
              "2                    Pl/sql Developer - SQL                NaN   \n",
              "3    Manager/ad/partner - Indirect Tax - CA                NaN   \n",
              "4           JAVA Technical Lead (6-8 yrs) -                4.0   \n",
              "\n",
              "                          payrate                   postdate site_name  \\\n",
              "0         1,50,000 - 2,25,000 P.A  2016-05-21 19:30:00 +0000       NaN   \n",
              "1  1,50,000 - 2,50,000 P.A. 20000  2016-05-21 19:30:00 +0000       NaN   \n",
              "2      Not Disclosed by Recruiter  2016-10-13 16:20:55 +0000       NaN   \n",
              "3      Not Disclosed by Recruiter  2016-10-13 16:20:55 +0000       NaN   \n",
              "4      Not Disclosed by Recruiter  2016-10-13 16:20:55 +0000       NaN   \n",
              "\n",
              "                                  skills                           uniq_id  \n",
              "0                                   ITES  43b19632647068535437c774b6ca6cf8  \n",
              "1                              Marketing  d4c72325e57f89f364812b5ed5a795f0  \n",
              "2  IT Software - Application Programming  c47df6f4cfdf5b46f1fd713ba61b9eba  \n",
              "3                               Accounts  115d28f140f694dd1cc61c53d03c66ae  \n",
              "4  IT Software - Application Programming  a12553fc03bc7bcced8b1bb8963f97b4  "
            ],
            "text/html": [
              "\n",
              "  <div id=\"df-c1204fc8-f781-4251-a1ce-1982f3f0d14e\">\n",
              "    <div class=\"colab-df-container\">\n",
              "      <div>\n",
              "<style scoped>\n",
              "    .dataframe tbody tr th:only-of-type {\n",
              "        vertical-align: middle;\n",
              "    }\n",
              "\n",
              "    .dataframe tbody tr th {\n",
              "        vertical-align: top;\n",
              "    }\n",
              "\n",
              "    .dataframe thead th {\n",
              "        text-align: right;\n",
              "    }\n",
              "</style>\n",
              "<table border=\"1\" class=\"dataframe\">\n",
              "  <thead>\n",
              "    <tr style=\"text-align: right;\">\n",
              "      <th></th>\n",
              "      <th>company</th>\n",
              "      <th>education</th>\n",
              "      <th>experience</th>\n",
              "      <th>industry</th>\n",
              "      <th>jobdescription</th>\n",
              "      <th>jobid</th>\n",
              "      <th>joblocation_address</th>\n",
              "      <th>jobtitle</th>\n",
              "      <th>numberofpositions</th>\n",
              "      <th>payrate</th>\n",
              "      <th>postdate</th>\n",
              "      <th>site_name</th>\n",
              "      <th>skills</th>\n",
              "      <th>uniq_id</th>\n",
              "    </tr>\n",
              "  </thead>\n",
              "  <tbody>\n",
              "    <tr>\n",
              "      <th>0</th>\n",
              "      <td>MM Media Pvt Ltd</td>\n",
              "      <td>UG: B.Tech/B.E. - Any Specialization PG:Any Po...</td>\n",
              "      <td>0 - 1 yrs</td>\n",
              "      <td>Media / Entertainment / Internet</td>\n",
              "      <td>Job Description   Send me Jobs like this Quali...</td>\n",
              "      <td>210516002263</td>\n",
              "      <td>Chennai</td>\n",
              "      <td>Walkin Data Entry Operator (night Shift)</td>\n",
              "      <td>NaN</td>\n",
              "      <td>1,50,000 - 2,25,000 P.A</td>\n",
              "      <td>2016-05-21 19:30:00 +0000</td>\n",
              "      <td>NaN</td>\n",
              "      <td>ITES</td>\n",
              "      <td>43b19632647068535437c774b6ca6cf8</td>\n",
              "    </tr>\n",
              "    <tr>\n",
              "      <th>1</th>\n",
              "      <td>find live infotech</td>\n",
              "      <td>UG: B.Tech/B.E. - Any Specialization PG:MBA/PG...</td>\n",
              "      <td>0 - 0 yrs</td>\n",
              "      <td>Advertising / PR / MR / Event Management</td>\n",
              "      <td>Job Description   Send me Jobs like this Quali...</td>\n",
              "      <td>210516002391</td>\n",
              "      <td>Chennai</td>\n",
              "      <td>Work Based Onhome Based Part Time.</td>\n",
              "      <td>60.0</td>\n",
              "      <td>1,50,000 - 2,50,000 P.A. 20000</td>\n",
              "      <td>2016-05-21 19:30:00 +0000</td>\n",
              "      <td>NaN</td>\n",
              "      <td>Marketing</td>\n",
              "      <td>d4c72325e57f89f364812b5ed5a795f0</td>\n",
              "    </tr>\n",
              "    <tr>\n",
              "      <th>2</th>\n",
              "      <td>Softtech Career Infosystem Pvt. Ltd</td>\n",
              "      <td>UG: Any Graduate - Any Specialization PG:Any P...</td>\n",
              "      <td>4 - 8 yrs</td>\n",
              "      <td>IT-Software / Software Services</td>\n",
              "      <td>Job Description   Send me Jobs like this - as ...</td>\n",
              "      <td>101016900534</td>\n",
              "      <td>Bengaluru</td>\n",
              "      <td>Pl/sql Developer - SQL</td>\n",
              "      <td>NaN</td>\n",
              "      <td>Not Disclosed by Recruiter</td>\n",
              "      <td>2016-10-13 16:20:55 +0000</td>\n",
              "      <td>NaN</td>\n",
              "      <td>IT Software - Application Programming</td>\n",
              "      <td>c47df6f4cfdf5b46f1fd713ba61b9eba</td>\n",
              "    </tr>\n",
              "    <tr>\n",
              "      <th>3</th>\n",
              "      <td>Onboard HRServices LLP</td>\n",
              "      <td>UG: Any Graduate - Any Specialization PG:CA Do...</td>\n",
              "      <td>11 - 15 yrs</td>\n",
              "      <td>Banking / Financial Services / Broking</td>\n",
              "      <td>Job Description   Send me Jobs like this - Inv...</td>\n",
              "      <td>81016900536</td>\n",
              "      <td>Mumbai, Bengaluru, Kolkata, Chennai, Coimbator...</td>\n",
              "      <td>Manager/ad/partner - Indirect Tax - CA</td>\n",
              "      <td>NaN</td>\n",
              "      <td>Not Disclosed by Recruiter</td>\n",
              "      <td>2016-10-13 16:20:55 +0000</td>\n",
              "      <td>NaN</td>\n",
              "      <td>Accounts</td>\n",
              "      <td>115d28f140f694dd1cc61c53d03c66ae</td>\n",
              "    </tr>\n",
              "    <tr>\n",
              "      <th>4</th>\n",
              "      <td>Spire Technologies and Solutions Pvt. Ltd.</td>\n",
              "      <td>UG: B.Tech/B.E. - Any Specialization PG:Any Po...</td>\n",
              "      <td>6 - 8 yrs</td>\n",
              "      <td>IT-Software / Software Services</td>\n",
              "      <td>Job Description   Send me Jobs like this Pleas...</td>\n",
              "      <td>120916002122</td>\n",
              "      <td>Bengaluru</td>\n",
              "      <td>JAVA Technical Lead (6-8 yrs) -</td>\n",
              "      <td>4.0</td>\n",
              "      <td>Not Disclosed by Recruiter</td>\n",
              "      <td>2016-10-13 16:20:55 +0000</td>\n",
              "      <td>NaN</td>\n",
              "      <td>IT Software - Application Programming</td>\n",
              "      <td>a12553fc03bc7bcced8b1bb8963f97b4</td>\n",
              "    </tr>\n",
              "  </tbody>\n",
              "</table>\n",
              "</div>\n",
              "      <button class=\"colab-df-convert\" onclick=\"convertToInteractive('df-c1204fc8-f781-4251-a1ce-1982f3f0d14e')\"\n",
              "              title=\"Convert this dataframe to an interactive table.\"\n",
              "              style=\"display:none;\">\n",
              "        \n",
              "  <svg xmlns=\"http://www.w3.org/2000/svg\" height=\"24px\"viewBox=\"0 0 24 24\"\n",
              "       width=\"24px\">\n",
              "    <path d=\"M0 0h24v24H0V0z\" fill=\"none\"/>\n",
              "    <path d=\"M18.56 5.44l.94 2.06.94-2.06 2.06-.94-2.06-.94-.94-2.06-.94 2.06-2.06.94zm-11 1L8.5 8.5l.94-2.06 2.06-.94-2.06-.94L8.5 2.5l-.94 2.06-2.06.94zm10 10l.94 2.06.94-2.06 2.06-.94-2.06-.94-.94-2.06-.94 2.06-2.06.94z\"/><path d=\"M17.41 7.96l-1.37-1.37c-.4-.4-.92-.59-1.43-.59-.52 0-1.04.2-1.43.59L10.3 9.45l-7.72 7.72c-.78.78-.78 2.05 0 2.83L4 21.41c.39.39.9.59 1.41.59.51 0 1.02-.2 1.41-.59l7.78-7.78 2.81-2.81c.8-.78.8-2.07 0-2.86zM5.41 20L4 18.59l7.72-7.72 1.47 1.35L5.41 20z\"/>\n",
              "  </svg>\n",
              "      </button>\n",
              "      \n",
              "  <style>\n",
              "    .colab-df-container {\n",
              "      display:flex;\n",
              "      flex-wrap:wrap;\n",
              "      gap: 12px;\n",
              "    }\n",
              "\n",
              "    .colab-df-convert {\n",
              "      background-color: #E8F0FE;\n",
              "      border: none;\n",
              "      border-radius: 50%;\n",
              "      cursor: pointer;\n",
              "      display: none;\n",
              "      fill: #1967D2;\n",
              "      height: 32px;\n",
              "      padding: 0 0 0 0;\n",
              "      width: 32px;\n",
              "    }\n",
              "\n",
              "    .colab-df-convert:hover {\n",
              "      background-color: #E2EBFA;\n",
              "      box-shadow: 0px 1px 2px rgba(60, 64, 67, 0.3), 0px 1px 3px 1px rgba(60, 64, 67, 0.15);\n",
              "      fill: #174EA6;\n",
              "    }\n",
              "\n",
              "    [theme=dark] .colab-df-convert {\n",
              "      background-color: #3B4455;\n",
              "      fill: #D2E3FC;\n",
              "    }\n",
              "\n",
              "    [theme=dark] .colab-df-convert:hover {\n",
              "      background-color: #434B5C;\n",
              "      box-shadow: 0px 1px 3px 1px rgba(0, 0, 0, 0.15);\n",
              "      filter: drop-shadow(0px 1px 2px rgba(0, 0, 0, 0.3));\n",
              "      fill: #FFFFFF;\n",
              "    }\n",
              "  </style>\n",
              "\n",
              "      <script>\n",
              "        const buttonEl =\n",
              "          document.querySelector('#df-c1204fc8-f781-4251-a1ce-1982f3f0d14e button.colab-df-convert');\n",
              "        buttonEl.style.display =\n",
              "          google.colab.kernel.accessAllowed ? 'block' : 'none';\n",
              "\n",
              "        async function convertToInteractive(key) {\n",
              "          const element = document.querySelector('#df-c1204fc8-f781-4251-a1ce-1982f3f0d14e');\n",
              "          const dataTable =\n",
              "            await google.colab.kernel.invokeFunction('convertToInteractive',\n",
              "                                                     [key], {});\n",
              "          if (!dataTable) return;\n",
              "\n",
              "          const docLinkHtml = 'Like what you see? Visit the ' +\n",
              "            '<a target=\"_blank\" href=https://colab.research.google.com/notebooks/data_table.ipynb>data table notebook</a>'\n",
              "            + ' to learn more about interactive tables.';\n",
              "          element.innerHTML = '';\n",
              "          dataTable['output_type'] = 'display_data';\n",
              "          await google.colab.output.renderOutput(dataTable, element);\n",
              "          const docLink = document.createElement('div');\n",
              "          docLink.innerHTML = docLinkHtml;\n",
              "          element.appendChild(docLink);\n",
              "        }\n",
              "      </script>\n",
              "    </div>\n",
              "  </div>\n",
              "  "
            ]
          },
          "metadata": {},
          "execution_count": 41
        }
      ]
    },
    {
      "cell_type": "markdown",
      "source": [
        "**Exploring and Cleaning dataset** <br>\n",
        "We will drop the columns that we won't need. For the job recommendation system, we need the job description field mandatorily based on which we will recommend."
      ],
      "metadata": {
        "id": "i9n4PsZCS9q2"
      }
    },
    {
      "cell_type": "code",
      "source": [
        "df.drop(['jobid', 'numberofpositions', 'payrate', 'postdate', 'site_name', 'uniq_id'], axis = 1, inplace = True)"
      ],
      "metadata": {
        "id": "2de7V8xXS83h"
      },
      "execution_count": 42,
      "outputs": []
    },
    {
      "cell_type": "code",
      "source": [
        "df.shape"
      ],
      "metadata": {
        "colab": {
          "base_uri": "https://localhost:8080/"
        },
        "id": "Zrkp9YCNSRWS",
        "outputId": "e4161594-b878-4522-c707-ffe730c42f6d"
      },
      "execution_count": 43,
      "outputs": [
        {
          "output_type": "execute_result",
          "data": {
            "text/plain": [
              "(22000, 8)"
            ]
          },
          "metadata": {},
          "execution_count": 43
        }
      ]
    },
    {
      "cell_type": "code",
      "source": [
        "df.info()"
      ],
      "metadata": {
        "colab": {
          "base_uri": "https://localhost:8080/"
        },
        "id": "9sYEE0UpTbR9",
        "outputId": "54d9df37-c2ca-4746-810e-89de01cae669"
      },
      "execution_count": 44,
      "outputs": [
        {
          "output_type": "stream",
          "name": "stdout",
          "text": [
            "<class 'pandas.core.frame.DataFrame'>\n",
            "RangeIndex: 22000 entries, 0 to 21999\n",
            "Data columns (total 8 columns):\n",
            " #   Column               Non-Null Count  Dtype \n",
            "---  ------               --------------  ----- \n",
            " 0   company              21996 non-null  object\n",
            " 1   education            20004 non-null  object\n",
            " 2   experience           21996 non-null  object\n",
            " 3   industry             21995 non-null  object\n",
            " 4   jobdescription       21996 non-null  object\n",
            " 5   joblocation_address  21499 non-null  object\n",
            " 6   jobtitle             22000 non-null  object\n",
            " 7   skills               21472 non-null  object\n",
            "dtypes: object(8)\n",
            "memory usage: 1.3+ MB\n"
          ]
        }
      ]
    },
    {
      "cell_type": "code",
      "source": [
        "df.isna().sum()"
      ],
      "metadata": {
        "colab": {
          "base_uri": "https://localhost:8080/"
        },
        "id": "BXC50ydjTdo2",
        "outputId": "e65329c9-9592-4d39-a242-bfd72b76f5df"
      },
      "execution_count": 45,
      "outputs": [
        {
          "output_type": "execute_result",
          "data": {
            "text/plain": [
              "company                   4\n",
              "education              1996\n",
              "experience                4\n",
              "industry                  5\n",
              "jobdescription            4\n",
              "joblocation_address     501\n",
              "jobtitle                  0\n",
              "skills                  528\n",
              "dtype: int64"
            ]
          },
          "metadata": {},
          "execution_count": 45
        }
      ]
    },
    {
      "cell_type": "markdown",
      "source": [
        "There are four companies with null values. Let look into those -"
      ],
      "metadata": {
        "id": "VQC0hnq1TmaG"
      }
    },
    {
      "cell_type": "code",
      "source": [
        "df[df.company.isna()]"
      ],
      "metadata": {
        "colab": {
          "base_uri": "https://localhost:8080/",
          "height": 175
        },
        "id": "CLDgIAnGTjHB",
        "outputId": "92a54a93-3a08-424d-d8d1-026d5a0f1c67"
      },
      "execution_count": 46,
      "outputs": [
        {
          "output_type": "execute_result",
          "data": {
            "text/plain": [
              "     company education experience industry jobdescription joblocation_address  \\\n",
              "3768     NaN       NaN        NaN      NaN            NaN                 NaN   \n",
              "4026     NaN       NaN        NaN      NaN            NaN                 NaN   \n",
              "4389     NaN       NaN        NaN      NaN            NaN                 NaN   \n",
              "4841     NaN       NaN        NaN      NaN            NaN                 NaN   \n",
              "\n",
              "                                        jobtitle skills  \n",
              "3768    1-50 of 680 Service Desk Jobs in Chennai    NaN  \n",
              "4026  1-50 of 658 .net Developer Jobs in Chennai    NaN  \n",
              "4389         1-50 of 574 Asp.net Jobs in Chennai    NaN  \n",
              "4841    1-50 of 507 Risk Analyst Jobs in Chennai    NaN  "
            ],
            "text/html": [
              "\n",
              "  <div id=\"df-c8a82c0e-d1b5-464c-9e4a-a41aab8ecf50\">\n",
              "    <div class=\"colab-df-container\">\n",
              "      <div>\n",
              "<style scoped>\n",
              "    .dataframe tbody tr th:only-of-type {\n",
              "        vertical-align: middle;\n",
              "    }\n",
              "\n",
              "    .dataframe tbody tr th {\n",
              "        vertical-align: top;\n",
              "    }\n",
              "\n",
              "    .dataframe thead th {\n",
              "        text-align: right;\n",
              "    }\n",
              "</style>\n",
              "<table border=\"1\" class=\"dataframe\">\n",
              "  <thead>\n",
              "    <tr style=\"text-align: right;\">\n",
              "      <th></th>\n",
              "      <th>company</th>\n",
              "      <th>education</th>\n",
              "      <th>experience</th>\n",
              "      <th>industry</th>\n",
              "      <th>jobdescription</th>\n",
              "      <th>joblocation_address</th>\n",
              "      <th>jobtitle</th>\n",
              "      <th>skills</th>\n",
              "    </tr>\n",
              "  </thead>\n",
              "  <tbody>\n",
              "    <tr>\n",
              "      <th>3768</th>\n",
              "      <td>NaN</td>\n",
              "      <td>NaN</td>\n",
              "      <td>NaN</td>\n",
              "      <td>NaN</td>\n",
              "      <td>NaN</td>\n",
              "      <td>NaN</td>\n",
              "      <td>1-50 of 680 Service Desk Jobs in Chennai</td>\n",
              "      <td>NaN</td>\n",
              "    </tr>\n",
              "    <tr>\n",
              "      <th>4026</th>\n",
              "      <td>NaN</td>\n",
              "      <td>NaN</td>\n",
              "      <td>NaN</td>\n",
              "      <td>NaN</td>\n",
              "      <td>NaN</td>\n",
              "      <td>NaN</td>\n",
              "      <td>1-50 of 658 .net Developer Jobs in Chennai</td>\n",
              "      <td>NaN</td>\n",
              "    </tr>\n",
              "    <tr>\n",
              "      <th>4389</th>\n",
              "      <td>NaN</td>\n",
              "      <td>NaN</td>\n",
              "      <td>NaN</td>\n",
              "      <td>NaN</td>\n",
              "      <td>NaN</td>\n",
              "      <td>NaN</td>\n",
              "      <td>1-50 of 574 Asp.net Jobs in Chennai</td>\n",
              "      <td>NaN</td>\n",
              "    </tr>\n",
              "    <tr>\n",
              "      <th>4841</th>\n",
              "      <td>NaN</td>\n",
              "      <td>NaN</td>\n",
              "      <td>NaN</td>\n",
              "      <td>NaN</td>\n",
              "      <td>NaN</td>\n",
              "      <td>NaN</td>\n",
              "      <td>1-50 of 507 Risk Analyst Jobs in Chennai</td>\n",
              "      <td>NaN</td>\n",
              "    </tr>\n",
              "  </tbody>\n",
              "</table>\n",
              "</div>\n",
              "      <button class=\"colab-df-convert\" onclick=\"convertToInteractive('df-c8a82c0e-d1b5-464c-9e4a-a41aab8ecf50')\"\n",
              "              title=\"Convert this dataframe to an interactive table.\"\n",
              "              style=\"display:none;\">\n",
              "        \n",
              "  <svg xmlns=\"http://www.w3.org/2000/svg\" height=\"24px\"viewBox=\"0 0 24 24\"\n",
              "       width=\"24px\">\n",
              "    <path d=\"M0 0h24v24H0V0z\" fill=\"none\"/>\n",
              "    <path d=\"M18.56 5.44l.94 2.06.94-2.06 2.06-.94-2.06-.94-.94-2.06-.94 2.06-2.06.94zm-11 1L8.5 8.5l.94-2.06 2.06-.94-2.06-.94L8.5 2.5l-.94 2.06-2.06.94zm10 10l.94 2.06.94-2.06 2.06-.94-2.06-.94-.94-2.06-.94 2.06-2.06.94z\"/><path d=\"M17.41 7.96l-1.37-1.37c-.4-.4-.92-.59-1.43-.59-.52 0-1.04.2-1.43.59L10.3 9.45l-7.72 7.72c-.78.78-.78 2.05 0 2.83L4 21.41c.39.39.9.59 1.41.59.51 0 1.02-.2 1.41-.59l7.78-7.78 2.81-2.81c.8-.78.8-2.07 0-2.86zM5.41 20L4 18.59l7.72-7.72 1.47 1.35L5.41 20z\"/>\n",
              "  </svg>\n",
              "      </button>\n",
              "      \n",
              "  <style>\n",
              "    .colab-df-container {\n",
              "      display:flex;\n",
              "      flex-wrap:wrap;\n",
              "      gap: 12px;\n",
              "    }\n",
              "\n",
              "    .colab-df-convert {\n",
              "      background-color: #E8F0FE;\n",
              "      border: none;\n",
              "      border-radius: 50%;\n",
              "      cursor: pointer;\n",
              "      display: none;\n",
              "      fill: #1967D2;\n",
              "      height: 32px;\n",
              "      padding: 0 0 0 0;\n",
              "      width: 32px;\n",
              "    }\n",
              "\n",
              "    .colab-df-convert:hover {\n",
              "      background-color: #E2EBFA;\n",
              "      box-shadow: 0px 1px 2px rgba(60, 64, 67, 0.3), 0px 1px 3px 1px rgba(60, 64, 67, 0.15);\n",
              "      fill: #174EA6;\n",
              "    }\n",
              "\n",
              "    [theme=dark] .colab-df-convert {\n",
              "      background-color: #3B4455;\n",
              "      fill: #D2E3FC;\n",
              "    }\n",
              "\n",
              "    [theme=dark] .colab-df-convert:hover {\n",
              "      background-color: #434B5C;\n",
              "      box-shadow: 0px 1px 3px 1px rgba(0, 0, 0, 0.15);\n",
              "      filter: drop-shadow(0px 1px 2px rgba(0, 0, 0, 0.3));\n",
              "      fill: #FFFFFF;\n",
              "    }\n",
              "  </style>\n",
              "\n",
              "      <script>\n",
              "        const buttonEl =\n",
              "          document.querySelector('#df-c8a82c0e-d1b5-464c-9e4a-a41aab8ecf50 button.colab-df-convert');\n",
              "        buttonEl.style.display =\n",
              "          google.colab.kernel.accessAllowed ? 'block' : 'none';\n",
              "\n",
              "        async function convertToInteractive(key) {\n",
              "          const element = document.querySelector('#df-c8a82c0e-d1b5-464c-9e4a-a41aab8ecf50');\n",
              "          const dataTable =\n",
              "            await google.colab.kernel.invokeFunction('convertToInteractive',\n",
              "                                                     [key], {});\n",
              "          if (!dataTable) return;\n",
              "\n",
              "          const docLinkHtml = 'Like what you see? Visit the ' +\n",
              "            '<a target=\"_blank\" href=https://colab.research.google.com/notebooks/data_table.ipynb>data table notebook</a>'\n",
              "            + ' to learn more about interactive tables.';\n",
              "          element.innerHTML = '';\n",
              "          dataTable['output_type'] = 'display_data';\n",
              "          await google.colab.output.renderOutput(dataTable, element);\n",
              "          const docLink = document.createElement('div');\n",
              "          docLink.innerHTML = docLinkHtml;\n",
              "          element.appendChild(docLink);\n",
              "        }\n",
              "      </script>\n",
              "    </div>\n",
              "  </div>\n",
              "  "
            ]
          },
          "metadata": {},
          "execution_count": 46
        }
      ]
    },
    {
      "cell_type": "code",
      "source": [
        "#all are null, so we can drop these rows\n",
        "\n",
        "df.dropna(subset = ['company'], axis = 0, inplace = True)"
      ],
      "metadata": {
        "id": "uwi82f3nTqxF"
      },
      "execution_count": 47,
      "outputs": []
    },
    {
      "cell_type": "markdown",
      "source": [
        "Then we have some values from education field as NaN. We will replace that NaN with 'Not Given'"
      ],
      "metadata": {
        "id": "nRUOifz9T-Z2"
      }
    },
    {
      "cell_type": "code",
      "source": [
        "df[df['education'].isna()].head()"
      ],
      "metadata": {
        "colab": {
          "base_uri": "https://localhost:8080/",
          "height": 389
        },
        "id": "4DC3j9poTwVj",
        "outputId": "fb21a154-fe5a-4394-a0d1-28e2f3316f71"
      },
      "execution_count": 48,
      "outputs": [
        {
          "output_type": "execute_result",
          "data": {
            "text/plain": [
              "                                              company education  experience  \\\n",
              "6              Kinesis Management Consultant Pvt. Ltd       NaN   1 - 3 yrs   \n",
              "16  SMACera Technologies Consulting and Services P...       NaN   1 - 2 yrs   \n",
              "17                  Janak Vidya Consultancy Pvt. Ltd.       NaN   2 - 4 yrs   \n",
              "31    iPlanner, Inc. hiring for Product based Company       NaN  5 - 10 yrs   \n",
              "38         Inspiration Manpower Consultancy Pvt. Ltd.       NaN   0 - 5 yrs   \n",
              "\n",
              "                           industry  \\\n",
              "6   IT-Software / Software Services   \n",
              "16           Recruitment / Staffing   \n",
              "17  IT-Software / Software Services   \n",
              "31  IT-Software / Software Services   \n",
              "38         BPO / Call Centre / ITES   \n",
              "\n",
              "                                       jobdescription  \\\n",
              "6   Job Description   Send me Jobs like this exper...   \n",
              "16  Job Description   Send me Jobs like this 1. Hi...   \n",
              "17  Job Description   Send me Jobs like this (2-3 ...   \n",
              "31  Job Description   Send me Jobs like this Greet...   \n",
              "38  Job Description   Send me Jobs like this Greet...   \n",
              "\n",
              "                                  joblocation_address  \\\n",
              "6   Delhi NCR, Mumbai, Bengaluru, Kochi, Greater N...   \n",
              "16                                          Bengaluru   \n",
              "17                                          Bengaluru   \n",
              "31                                          Bengaluru   \n",
              "38                                 Bengaluru, Chennai   \n",
              "\n",
              "                                             jobtitle  \\\n",
              "6                                       PHP Developer   \n",
              "16                               Data Entry Executive   \n",
              "17                PHP Developer_banashankari II Stage   \n",
              "31  Good Opportunity for Oracle DBA - Bangalore Lo...   \n",
              "38  Banking / Mortgage / Finance / Sales / Bpo / C...   \n",
              "\n",
              "                                   skills  \n",
              "6   IT Software - Application Programming  \n",
              "16                    Executive Assistant  \n",
              "17                    IT Software - Other  \n",
              "31  IT Software - Application Programming  \n",
              "38                                   ITES  "
            ],
            "text/html": [
              "\n",
              "  <div id=\"df-86b3c6ce-4ad8-430e-b69a-f8a903c6e005\">\n",
              "    <div class=\"colab-df-container\">\n",
              "      <div>\n",
              "<style scoped>\n",
              "    .dataframe tbody tr th:only-of-type {\n",
              "        vertical-align: middle;\n",
              "    }\n",
              "\n",
              "    .dataframe tbody tr th {\n",
              "        vertical-align: top;\n",
              "    }\n",
              "\n",
              "    .dataframe thead th {\n",
              "        text-align: right;\n",
              "    }\n",
              "</style>\n",
              "<table border=\"1\" class=\"dataframe\">\n",
              "  <thead>\n",
              "    <tr style=\"text-align: right;\">\n",
              "      <th></th>\n",
              "      <th>company</th>\n",
              "      <th>education</th>\n",
              "      <th>experience</th>\n",
              "      <th>industry</th>\n",
              "      <th>jobdescription</th>\n",
              "      <th>joblocation_address</th>\n",
              "      <th>jobtitle</th>\n",
              "      <th>skills</th>\n",
              "    </tr>\n",
              "  </thead>\n",
              "  <tbody>\n",
              "    <tr>\n",
              "      <th>6</th>\n",
              "      <td>Kinesis Management Consultant Pvt. Ltd</td>\n",
              "      <td>NaN</td>\n",
              "      <td>1 - 3 yrs</td>\n",
              "      <td>IT-Software / Software Services</td>\n",
              "      <td>Job Description   Send me Jobs like this exper...</td>\n",
              "      <td>Delhi NCR, Mumbai, Bengaluru, Kochi, Greater N...</td>\n",
              "      <td>PHP Developer</td>\n",
              "      <td>IT Software - Application Programming</td>\n",
              "    </tr>\n",
              "    <tr>\n",
              "      <th>16</th>\n",
              "      <td>SMACera Technologies Consulting and Services P...</td>\n",
              "      <td>NaN</td>\n",
              "      <td>1 - 2 yrs</td>\n",
              "      <td>Recruitment / Staffing</td>\n",
              "      <td>Job Description   Send me Jobs like this 1. Hi...</td>\n",
              "      <td>Bengaluru</td>\n",
              "      <td>Data Entry Executive</td>\n",
              "      <td>Executive Assistant</td>\n",
              "    </tr>\n",
              "    <tr>\n",
              "      <th>17</th>\n",
              "      <td>Janak Vidya Consultancy Pvt. Ltd.</td>\n",
              "      <td>NaN</td>\n",
              "      <td>2 - 4 yrs</td>\n",
              "      <td>IT-Software / Software Services</td>\n",
              "      <td>Job Description   Send me Jobs like this (2-3 ...</td>\n",
              "      <td>Bengaluru</td>\n",
              "      <td>PHP Developer_banashankari II Stage</td>\n",
              "      <td>IT Software - Other</td>\n",
              "    </tr>\n",
              "    <tr>\n",
              "      <th>31</th>\n",
              "      <td>iPlanner, Inc. hiring for Product based Company</td>\n",
              "      <td>NaN</td>\n",
              "      <td>5 - 10 yrs</td>\n",
              "      <td>IT-Software / Software Services</td>\n",
              "      <td>Job Description   Send me Jobs like this Greet...</td>\n",
              "      <td>Bengaluru</td>\n",
              "      <td>Good Opportunity for Oracle DBA - Bangalore Lo...</td>\n",
              "      <td>IT Software - Application Programming</td>\n",
              "    </tr>\n",
              "    <tr>\n",
              "      <th>38</th>\n",
              "      <td>Inspiration Manpower Consultancy Pvt. Ltd.</td>\n",
              "      <td>NaN</td>\n",
              "      <td>0 - 5 yrs</td>\n",
              "      <td>BPO / Call Centre / ITES</td>\n",
              "      <td>Job Description   Send me Jobs like this Greet...</td>\n",
              "      <td>Bengaluru, Chennai</td>\n",
              "      <td>Banking / Mortgage / Finance / Sales / Bpo / C...</td>\n",
              "      <td>ITES</td>\n",
              "    </tr>\n",
              "  </tbody>\n",
              "</table>\n",
              "</div>\n",
              "      <button class=\"colab-df-convert\" onclick=\"convertToInteractive('df-86b3c6ce-4ad8-430e-b69a-f8a903c6e005')\"\n",
              "              title=\"Convert this dataframe to an interactive table.\"\n",
              "              style=\"display:none;\">\n",
              "        \n",
              "  <svg xmlns=\"http://www.w3.org/2000/svg\" height=\"24px\"viewBox=\"0 0 24 24\"\n",
              "       width=\"24px\">\n",
              "    <path d=\"M0 0h24v24H0V0z\" fill=\"none\"/>\n",
              "    <path d=\"M18.56 5.44l.94 2.06.94-2.06 2.06-.94-2.06-.94-.94-2.06-.94 2.06-2.06.94zm-11 1L8.5 8.5l.94-2.06 2.06-.94-2.06-.94L8.5 2.5l-.94 2.06-2.06.94zm10 10l.94 2.06.94-2.06 2.06-.94-2.06-.94-.94-2.06-.94 2.06-2.06.94z\"/><path d=\"M17.41 7.96l-1.37-1.37c-.4-.4-.92-.59-1.43-.59-.52 0-1.04.2-1.43.59L10.3 9.45l-7.72 7.72c-.78.78-.78 2.05 0 2.83L4 21.41c.39.39.9.59 1.41.59.51 0 1.02-.2 1.41-.59l7.78-7.78 2.81-2.81c.8-.78.8-2.07 0-2.86zM5.41 20L4 18.59l7.72-7.72 1.47 1.35L5.41 20z\"/>\n",
              "  </svg>\n",
              "      </button>\n",
              "      \n",
              "  <style>\n",
              "    .colab-df-container {\n",
              "      display:flex;\n",
              "      flex-wrap:wrap;\n",
              "      gap: 12px;\n",
              "    }\n",
              "\n",
              "    .colab-df-convert {\n",
              "      background-color: #E8F0FE;\n",
              "      border: none;\n",
              "      border-radius: 50%;\n",
              "      cursor: pointer;\n",
              "      display: none;\n",
              "      fill: #1967D2;\n",
              "      height: 32px;\n",
              "      padding: 0 0 0 0;\n",
              "      width: 32px;\n",
              "    }\n",
              "\n",
              "    .colab-df-convert:hover {\n",
              "      background-color: #E2EBFA;\n",
              "      box-shadow: 0px 1px 2px rgba(60, 64, 67, 0.3), 0px 1px 3px 1px rgba(60, 64, 67, 0.15);\n",
              "      fill: #174EA6;\n",
              "    }\n",
              "\n",
              "    [theme=dark] .colab-df-convert {\n",
              "      background-color: #3B4455;\n",
              "      fill: #D2E3FC;\n",
              "    }\n",
              "\n",
              "    [theme=dark] .colab-df-convert:hover {\n",
              "      background-color: #434B5C;\n",
              "      box-shadow: 0px 1px 3px 1px rgba(0, 0, 0, 0.15);\n",
              "      filter: drop-shadow(0px 1px 2px rgba(0, 0, 0, 0.3));\n",
              "      fill: #FFFFFF;\n",
              "    }\n",
              "  </style>\n",
              "\n",
              "      <script>\n",
              "        const buttonEl =\n",
              "          document.querySelector('#df-86b3c6ce-4ad8-430e-b69a-f8a903c6e005 button.colab-df-convert');\n",
              "        buttonEl.style.display =\n",
              "          google.colab.kernel.accessAllowed ? 'block' : 'none';\n",
              "\n",
              "        async function convertToInteractive(key) {\n",
              "          const element = document.querySelector('#df-86b3c6ce-4ad8-430e-b69a-f8a903c6e005');\n",
              "          const dataTable =\n",
              "            await google.colab.kernel.invokeFunction('convertToInteractive',\n",
              "                                                     [key], {});\n",
              "          if (!dataTable) return;\n",
              "\n",
              "          const docLinkHtml = 'Like what you see? Visit the ' +\n",
              "            '<a target=\"_blank\" href=https://colab.research.google.com/notebooks/data_table.ipynb>data table notebook</a>'\n",
              "            + ' to learn more about interactive tables.';\n",
              "          element.innerHTML = '';\n",
              "          dataTable['output_type'] = 'display_data';\n",
              "          await google.colab.output.renderOutput(dataTable, element);\n",
              "          const docLink = document.createElement('div');\n",
              "          docLink.innerHTML = docLinkHtml;\n",
              "          element.appendChild(docLink);\n",
              "        }\n",
              "      </script>\n",
              "    </div>\n",
              "  </div>\n",
              "  "
            ]
          },
          "metadata": {},
          "execution_count": 48
        }
      ]
    },
    {
      "cell_type": "code",
      "source": [
        "df['education'].fillna('Not Given', inplace = True)"
      ],
      "metadata": {
        "id": "FrAJ3Lg2UG5T"
      },
      "execution_count": 49,
      "outputs": []
    },
    {
      "cell_type": "markdown",
      "source": [
        "Similarly, let's replace the job location NaN values and skills NaN values as Not Given."
      ],
      "metadata": {
        "id": "gRZK_cXiUTkz"
      }
    },
    {
      "cell_type": "code",
      "source": [
        "df['joblocation_address'].fillna('Not Given', inplace = True)\n",
        "df['skills'].fillna('Not Given', inplace = True)"
      ],
      "metadata": {
        "id": "aLxq8QIXULuB"
      },
      "execution_count": 50,
      "outputs": []
    },
    {
      "cell_type": "markdown",
      "source": [
        "A single value for industry is NaN. Let's do the same"
      ],
      "metadata": {
        "id": "LuzoebbEUiCW"
      }
    },
    {
      "cell_type": "code",
      "source": [
        "df['industry'].fillna('Not Given', inplace = True)"
      ],
      "metadata": {
        "id": "wCO94bByUbQ0"
      },
      "execution_count": 51,
      "outputs": []
    },
    {
      "cell_type": "markdown",
      "source": [
        "Now, let's check for duplicates"
      ],
      "metadata": {
        "id": "jLMR3jb3UvPG"
      }
    },
    {
      "cell_type": "code",
      "source": [
        "df[df.company.duplicated()]"
      ],
      "metadata": {
        "colab": {
          "base_uri": "https://localhost:8080/",
          "height": 745
        },
        "id": "BTG2A7ARUhmt",
        "outputId": "9439bbb0-5e71-4a90-b5d9-c2f766e61bd3"
      },
      "execution_count": 52,
      "outputs": [
        {
          "output_type": "execute_result",
          "data": {
            "text/plain": [
              "                                                company  \\\n",
              "14                                            Accenture   \n",
              "20                                            Accenture   \n",
              "23                                       OKDA Solutions   \n",
              "33                                            Accenture   \n",
              "36                           Strivex Consulting Pvt Ltd   \n",
              "...                                                 ...   \n",
              "21994                      Contactx Resource Management   \n",
              "21995       Morgan Stanley Advantage Services Pvt. Ltd.   \n",
              "21996  Careernet Technologies Pvt Ltd hiring for Client   \n",
              "21998                                      Confidential   \n",
              "21999                   Cambio Consulting India Pvt Ltd   \n",
              "\n",
              "                                               education   experience  \\\n",
              "14     UG: Any Graduate - Any Specialization PG:MBA/P...    1 - 5 yrs   \n",
              "20     UG: Any Graduate - Any Specialization PG:Any P...    1 - 5 yrs   \n",
              "23                 UG: Any Graduate - Any Specialization   6 - 10 yrs   \n",
              "33     UG: Any Graduate - Any Specialization PG:Any P...    1 - 5 yrs   \n",
              "36     UG: B.Tech/B.E. - Computers, Electronics/Telec...    4 - 9 yrs   \n",
              "...                                                  ...          ...   \n",
              "21994  UG: Any Graduate - Any Specialization PG:Any P...  10 - 14 yrs   \n",
              "21995              UG: Any Graduate - Any Specialization   9 - 13 yrs   \n",
              "21996  UG: B.Tech/B.E. - Any Specialization PG:M.Tech...    3 - 5 yrs   \n",
              "21998  UG: B.Tech/B.E. - Any Specialization PG:MCA - ...   7 - 12 yrs   \n",
              "21999  UG: B.Tech/B.E. - Any Specialization PG:MCA - ...   5 - 10 yrs   \n",
              "\n",
              "                                     industry  \\\n",
              "14            IT-Software / Software Services   \n",
              "20            IT-Software / Software Services   \n",
              "23            IT-Software / Software Services   \n",
              "33            IT-Software / Software Services   \n",
              "36            IT-Software / Software Services   \n",
              "...                                       ...   \n",
              "21994   Industrial Products / Heavy Machinery   \n",
              "21995  Banking / Financial Services / Broking   \n",
              "21996         IT-Software / Software Services   \n",
              "21998         IT-Software / Software Services   \n",
              "21999         IT-Software / Software Services   \n",
              "\n",
              "                                          jobdescription  \\\n",
              "14     Job Description   Send me Jobs like this Respo...   \n",
              "20     Job Description   Send me Jobs like this Deliv...   \n",
              "23     Job Description   Send me Jobs like this Job D...   \n",
              "33     Job Description   Send me Jobs like this Posit...   \n",
              "36     Job Description   Send me Jobs like this Notic...   \n",
              "...                                                  ...   \n",
              "21994  Job Description   Send me Jobs like this To br...   \n",
              "21995  Job Description   Send me Jobs like this Greet...   \n",
              "21996  Job Description   Send me Jobs like this Looki...   \n",
              "21998  Job Description   Send me Jobs like this We ar...   \n",
              "21999  Job Description   Send me Jobs like this Job d...   \n",
              "\n",
              "        joblocation_address  \\\n",
              "14                Bengaluru   \n",
              "20                Bengaluru   \n",
              "23                Bengaluru   \n",
              "33                Bengaluru   \n",
              "36                Bengaluru   \n",
              "...                     ...   \n",
              "21994    Bengaluru, Chennai   \n",
              "21995             Bengaluru   \n",
              "21996    Bengaluru, Gurgaon   \n",
              "21998  Delhi NCR, Bengaluru   \n",
              "21999             Bengaluru   \n",
              "\n",
              "                                                jobtitle  \\\n",
              "14                                     Revenue Assurance   \n",
              "20                                             Analytics   \n",
              "23                Sr iOS Developer - Objective C / Cocoa   \n",
              "33                                          Call Quality   \n",
              "36       WLAN Device Driver Development Engineer - Linux   \n",
              "...                                                  ...   \n",
              "21994  Sales Manager for a Leading Manufacturing Orga...   \n",
              "21995  Quality Assurance - VP with Morgan Stanley Ban...   \n",
              "21996      Java Backend Developers for a Product Company   \n",
              "21998  Sr UI Developer/ Technical Lead - Html/ CSS/ J...   \n",
              "21999                              RF Firmware Engineers   \n",
              "\n",
              "                                      skills  \n",
              "14                                  Accounts  \n",
              "20                                      ITES  \n",
              "23     IT Software - Application Programming  \n",
              "33                                      ITES  \n",
              "36      IT Software - Network Administration  \n",
              "...                                      ...  \n",
              "21994                                  Sales  \n",
              "21995             IT Software - QA & Testing  \n",
              "21996  IT Software - Application Programming  \n",
              "21998  IT Software - Application Programming  \n",
              "21999       IT Software - System Programming  \n",
              "\n",
              "[13527 rows x 8 columns]"
            ],
            "text/html": [
              "\n",
              "  <div id=\"df-86238822-efc6-4ce7-abf0-58719c4f2a65\">\n",
              "    <div class=\"colab-df-container\">\n",
              "      <div>\n",
              "<style scoped>\n",
              "    .dataframe tbody tr th:only-of-type {\n",
              "        vertical-align: middle;\n",
              "    }\n",
              "\n",
              "    .dataframe tbody tr th {\n",
              "        vertical-align: top;\n",
              "    }\n",
              "\n",
              "    .dataframe thead th {\n",
              "        text-align: right;\n",
              "    }\n",
              "</style>\n",
              "<table border=\"1\" class=\"dataframe\">\n",
              "  <thead>\n",
              "    <tr style=\"text-align: right;\">\n",
              "      <th></th>\n",
              "      <th>company</th>\n",
              "      <th>education</th>\n",
              "      <th>experience</th>\n",
              "      <th>industry</th>\n",
              "      <th>jobdescription</th>\n",
              "      <th>joblocation_address</th>\n",
              "      <th>jobtitle</th>\n",
              "      <th>skills</th>\n",
              "    </tr>\n",
              "  </thead>\n",
              "  <tbody>\n",
              "    <tr>\n",
              "      <th>14</th>\n",
              "      <td>Accenture</td>\n",
              "      <td>UG: Any Graduate - Any Specialization PG:MBA/P...</td>\n",
              "      <td>1 - 5 yrs</td>\n",
              "      <td>IT-Software / Software Services</td>\n",
              "      <td>Job Description   Send me Jobs like this Respo...</td>\n",
              "      <td>Bengaluru</td>\n",
              "      <td>Revenue Assurance</td>\n",
              "      <td>Accounts</td>\n",
              "    </tr>\n",
              "    <tr>\n",
              "      <th>20</th>\n",
              "      <td>Accenture</td>\n",
              "      <td>UG: Any Graduate - Any Specialization PG:Any P...</td>\n",
              "      <td>1 - 5 yrs</td>\n",
              "      <td>IT-Software / Software Services</td>\n",
              "      <td>Job Description   Send me Jobs like this Deliv...</td>\n",
              "      <td>Bengaluru</td>\n",
              "      <td>Analytics</td>\n",
              "      <td>ITES</td>\n",
              "    </tr>\n",
              "    <tr>\n",
              "      <th>23</th>\n",
              "      <td>OKDA Solutions</td>\n",
              "      <td>UG: Any Graduate - Any Specialization</td>\n",
              "      <td>6 - 10 yrs</td>\n",
              "      <td>IT-Software / Software Services</td>\n",
              "      <td>Job Description   Send me Jobs like this Job D...</td>\n",
              "      <td>Bengaluru</td>\n",
              "      <td>Sr iOS Developer - Objective C / Cocoa</td>\n",
              "      <td>IT Software - Application Programming</td>\n",
              "    </tr>\n",
              "    <tr>\n",
              "      <th>33</th>\n",
              "      <td>Accenture</td>\n",
              "      <td>UG: Any Graduate - Any Specialization PG:Any P...</td>\n",
              "      <td>1 - 5 yrs</td>\n",
              "      <td>IT-Software / Software Services</td>\n",
              "      <td>Job Description   Send me Jobs like this Posit...</td>\n",
              "      <td>Bengaluru</td>\n",
              "      <td>Call Quality</td>\n",
              "      <td>ITES</td>\n",
              "    </tr>\n",
              "    <tr>\n",
              "      <th>36</th>\n",
              "      <td>Strivex Consulting Pvt Ltd</td>\n",
              "      <td>UG: B.Tech/B.E. - Computers, Electronics/Telec...</td>\n",
              "      <td>4 - 9 yrs</td>\n",
              "      <td>IT-Software / Software Services</td>\n",
              "      <td>Job Description   Send me Jobs like this Notic...</td>\n",
              "      <td>Bengaluru</td>\n",
              "      <td>WLAN Device Driver Development Engineer - Linux</td>\n",
              "      <td>IT Software - Network Administration</td>\n",
              "    </tr>\n",
              "    <tr>\n",
              "      <th>...</th>\n",
              "      <td>...</td>\n",
              "      <td>...</td>\n",
              "      <td>...</td>\n",
              "      <td>...</td>\n",
              "      <td>...</td>\n",
              "      <td>...</td>\n",
              "      <td>...</td>\n",
              "      <td>...</td>\n",
              "    </tr>\n",
              "    <tr>\n",
              "      <th>21994</th>\n",
              "      <td>Contactx Resource Management</td>\n",
              "      <td>UG: Any Graduate - Any Specialization PG:Any P...</td>\n",
              "      <td>10 - 14 yrs</td>\n",
              "      <td>Industrial Products / Heavy Machinery</td>\n",
              "      <td>Job Description   Send me Jobs like this To br...</td>\n",
              "      <td>Bengaluru, Chennai</td>\n",
              "      <td>Sales Manager for a Leading Manufacturing Orga...</td>\n",
              "      <td>Sales</td>\n",
              "    </tr>\n",
              "    <tr>\n",
              "      <th>21995</th>\n",
              "      <td>Morgan Stanley Advantage Services Pvt. Ltd.</td>\n",
              "      <td>UG: Any Graduate - Any Specialization</td>\n",
              "      <td>9 - 13 yrs</td>\n",
              "      <td>Banking / Financial Services / Broking</td>\n",
              "      <td>Job Description   Send me Jobs like this Greet...</td>\n",
              "      <td>Bengaluru</td>\n",
              "      <td>Quality Assurance - VP with Morgan Stanley Ban...</td>\n",
              "      <td>IT Software - QA &amp; Testing</td>\n",
              "    </tr>\n",
              "    <tr>\n",
              "      <th>21996</th>\n",
              "      <td>Careernet Technologies Pvt Ltd hiring for Client</td>\n",
              "      <td>UG: B.Tech/B.E. - Any Specialization PG:M.Tech...</td>\n",
              "      <td>3 - 5 yrs</td>\n",
              "      <td>IT-Software / Software Services</td>\n",
              "      <td>Job Description   Send me Jobs like this Looki...</td>\n",
              "      <td>Bengaluru, Gurgaon</td>\n",
              "      <td>Java Backend Developers for a Product Company</td>\n",
              "      <td>IT Software - Application Programming</td>\n",
              "    </tr>\n",
              "    <tr>\n",
              "      <th>21998</th>\n",
              "      <td>Confidential</td>\n",
              "      <td>UG: B.Tech/B.E. - Any Specialization PG:MCA - ...</td>\n",
              "      <td>7 - 12 yrs</td>\n",
              "      <td>IT-Software / Software Services</td>\n",
              "      <td>Job Description   Send me Jobs like this We ar...</td>\n",
              "      <td>Delhi NCR, Bengaluru</td>\n",
              "      <td>Sr UI Developer/ Technical Lead - Html/ CSS/ J...</td>\n",
              "      <td>IT Software - Application Programming</td>\n",
              "    </tr>\n",
              "    <tr>\n",
              "      <th>21999</th>\n",
              "      <td>Cambio Consulting India Pvt Ltd</td>\n",
              "      <td>UG: B.Tech/B.E. - Any Specialization PG:MCA - ...</td>\n",
              "      <td>5 - 10 yrs</td>\n",
              "      <td>IT-Software / Software Services</td>\n",
              "      <td>Job Description   Send me Jobs like this Job d...</td>\n",
              "      <td>Bengaluru</td>\n",
              "      <td>RF Firmware Engineers</td>\n",
              "      <td>IT Software - System Programming</td>\n",
              "    </tr>\n",
              "  </tbody>\n",
              "</table>\n",
              "<p>13527 rows × 8 columns</p>\n",
              "</div>\n",
              "      <button class=\"colab-df-convert\" onclick=\"convertToInteractive('df-86238822-efc6-4ce7-abf0-58719c4f2a65')\"\n",
              "              title=\"Convert this dataframe to an interactive table.\"\n",
              "              style=\"display:none;\">\n",
              "        \n",
              "  <svg xmlns=\"http://www.w3.org/2000/svg\" height=\"24px\"viewBox=\"0 0 24 24\"\n",
              "       width=\"24px\">\n",
              "    <path d=\"M0 0h24v24H0V0z\" fill=\"none\"/>\n",
              "    <path d=\"M18.56 5.44l.94 2.06.94-2.06 2.06-.94-2.06-.94-.94-2.06-.94 2.06-2.06.94zm-11 1L8.5 8.5l.94-2.06 2.06-.94-2.06-.94L8.5 2.5l-.94 2.06-2.06.94zm10 10l.94 2.06.94-2.06 2.06-.94-2.06-.94-.94-2.06-.94 2.06-2.06.94z\"/><path d=\"M17.41 7.96l-1.37-1.37c-.4-.4-.92-.59-1.43-.59-.52 0-1.04.2-1.43.59L10.3 9.45l-7.72 7.72c-.78.78-.78 2.05 0 2.83L4 21.41c.39.39.9.59 1.41.59.51 0 1.02-.2 1.41-.59l7.78-7.78 2.81-2.81c.8-.78.8-2.07 0-2.86zM5.41 20L4 18.59l7.72-7.72 1.47 1.35L5.41 20z\"/>\n",
              "  </svg>\n",
              "      </button>\n",
              "      \n",
              "  <style>\n",
              "    .colab-df-container {\n",
              "      display:flex;\n",
              "      flex-wrap:wrap;\n",
              "      gap: 12px;\n",
              "    }\n",
              "\n",
              "    .colab-df-convert {\n",
              "      background-color: #E8F0FE;\n",
              "      border: none;\n",
              "      border-radius: 50%;\n",
              "      cursor: pointer;\n",
              "      display: none;\n",
              "      fill: #1967D2;\n",
              "      height: 32px;\n",
              "      padding: 0 0 0 0;\n",
              "      width: 32px;\n",
              "    }\n",
              "\n",
              "    .colab-df-convert:hover {\n",
              "      background-color: #E2EBFA;\n",
              "      box-shadow: 0px 1px 2px rgba(60, 64, 67, 0.3), 0px 1px 3px 1px rgba(60, 64, 67, 0.15);\n",
              "      fill: #174EA6;\n",
              "    }\n",
              "\n",
              "    [theme=dark] .colab-df-convert {\n",
              "      background-color: #3B4455;\n",
              "      fill: #D2E3FC;\n",
              "    }\n",
              "\n",
              "    [theme=dark] .colab-df-convert:hover {\n",
              "      background-color: #434B5C;\n",
              "      box-shadow: 0px 1px 3px 1px rgba(0, 0, 0, 0.15);\n",
              "      filter: drop-shadow(0px 1px 2px rgba(0, 0, 0, 0.3));\n",
              "      fill: #FFFFFF;\n",
              "    }\n",
              "  </style>\n",
              "\n",
              "      <script>\n",
              "        const buttonEl =\n",
              "          document.querySelector('#df-86238822-efc6-4ce7-abf0-58719c4f2a65 button.colab-df-convert');\n",
              "        buttonEl.style.display =\n",
              "          google.colab.kernel.accessAllowed ? 'block' : 'none';\n",
              "\n",
              "        async function convertToInteractive(key) {\n",
              "          const element = document.querySelector('#df-86238822-efc6-4ce7-abf0-58719c4f2a65');\n",
              "          const dataTable =\n",
              "            await google.colab.kernel.invokeFunction('convertToInteractive',\n",
              "                                                     [key], {});\n",
              "          if (!dataTable) return;\n",
              "\n",
              "          const docLinkHtml = 'Like what you see? Visit the ' +\n",
              "            '<a target=\"_blank\" href=https://colab.research.google.com/notebooks/data_table.ipynb>data table notebook</a>'\n",
              "            + ' to learn more about interactive tables.';\n",
              "          element.innerHTML = '';\n",
              "          dataTable['output_type'] = 'display_data';\n",
              "          await google.colab.output.renderOutput(dataTable, element);\n",
              "          const docLink = document.createElement('div');\n",
              "          docLink.innerHTML = docLinkHtml;\n",
              "          element.appendChild(docLink);\n",
              "        }\n",
              "      </script>\n",
              "    </div>\n",
              "  </div>\n",
              "  "
            ]
          },
          "metadata": {},
          "execution_count": 52
        }
      ]
    },
    {
      "cell_type": "markdown",
      "source": [
        "There are 13527 rows having duplicate values for company names. We will keep the duplicates, as for every company, job location, job title, and skills vary. Let's find the number of duplicates for each company -"
      ],
      "metadata": {
        "id": "TrP_vqGEU0Pi"
      }
    },
    {
      "cell_type": "code",
      "source": [
        "df.company.value_counts().rename_axis('company').reset_index(name='count')"
      ],
      "metadata": {
        "colab": {
          "base_uri": "https://localhost:8080/",
          "height": 424
        },
        "id": "5DPsCdVUUyPS",
        "outputId": "6e67ee75-52d9-4678-8d9a-03d43552a032"
      },
      "execution_count": 53,
      "outputs": [
        {
          "output_type": "execute_result",
          "data": {
            "text/plain": [
              "                                                company  count\n",
              "0                 Indian Institute of Technology Bombay    403\n",
              "1                                          Confidential    393\n",
              "2          National Institute of Industrial Engineering    185\n",
              "3                                Oracle India Pvt. Ltd.    151\n",
              "4                                        JPMorgan Chase    135\n",
              "...                                                 ...    ...\n",
              "8464                               Bello Jewels Pvt Ltd      1\n",
              "8465                             ITG Telematics Pvt Ltd      1\n",
              "8466  Genuine Management Services Pvt. Limited hirin...      1\n",
              "8467    AJAX Consulting hiring for a large Japanese MNC      1\n",
              "8468                                     Musk - Startup      1\n",
              "\n",
              "[8469 rows x 2 columns]"
            ],
            "text/html": [
              "\n",
              "  <div id=\"df-a052280c-25d7-4286-bf14-e25d5b6b0a66\">\n",
              "    <div class=\"colab-df-container\">\n",
              "      <div>\n",
              "<style scoped>\n",
              "    .dataframe tbody tr th:only-of-type {\n",
              "        vertical-align: middle;\n",
              "    }\n",
              "\n",
              "    .dataframe tbody tr th {\n",
              "        vertical-align: top;\n",
              "    }\n",
              "\n",
              "    .dataframe thead th {\n",
              "        text-align: right;\n",
              "    }\n",
              "</style>\n",
              "<table border=\"1\" class=\"dataframe\">\n",
              "  <thead>\n",
              "    <tr style=\"text-align: right;\">\n",
              "      <th></th>\n",
              "      <th>company</th>\n",
              "      <th>count</th>\n",
              "    </tr>\n",
              "  </thead>\n",
              "  <tbody>\n",
              "    <tr>\n",
              "      <th>0</th>\n",
              "      <td>Indian Institute of Technology Bombay</td>\n",
              "      <td>403</td>\n",
              "    </tr>\n",
              "    <tr>\n",
              "      <th>1</th>\n",
              "      <td>Confidential</td>\n",
              "      <td>393</td>\n",
              "    </tr>\n",
              "    <tr>\n",
              "      <th>2</th>\n",
              "      <td>National Institute of Industrial Engineering</td>\n",
              "      <td>185</td>\n",
              "    </tr>\n",
              "    <tr>\n",
              "      <th>3</th>\n",
              "      <td>Oracle India Pvt. Ltd.</td>\n",
              "      <td>151</td>\n",
              "    </tr>\n",
              "    <tr>\n",
              "      <th>4</th>\n",
              "      <td>JPMorgan Chase</td>\n",
              "      <td>135</td>\n",
              "    </tr>\n",
              "    <tr>\n",
              "      <th>...</th>\n",
              "      <td>...</td>\n",
              "      <td>...</td>\n",
              "    </tr>\n",
              "    <tr>\n",
              "      <th>8464</th>\n",
              "      <td>Bello Jewels Pvt Ltd</td>\n",
              "      <td>1</td>\n",
              "    </tr>\n",
              "    <tr>\n",
              "      <th>8465</th>\n",
              "      <td>ITG Telematics Pvt Ltd</td>\n",
              "      <td>1</td>\n",
              "    </tr>\n",
              "    <tr>\n",
              "      <th>8466</th>\n",
              "      <td>Genuine Management Services Pvt. Limited hirin...</td>\n",
              "      <td>1</td>\n",
              "    </tr>\n",
              "    <tr>\n",
              "      <th>8467</th>\n",
              "      <td>AJAX Consulting hiring for a large Japanese MNC</td>\n",
              "      <td>1</td>\n",
              "    </tr>\n",
              "    <tr>\n",
              "      <th>8468</th>\n",
              "      <td>Musk - Startup</td>\n",
              "      <td>1</td>\n",
              "    </tr>\n",
              "  </tbody>\n",
              "</table>\n",
              "<p>8469 rows × 2 columns</p>\n",
              "</div>\n",
              "      <button class=\"colab-df-convert\" onclick=\"convertToInteractive('df-a052280c-25d7-4286-bf14-e25d5b6b0a66')\"\n",
              "              title=\"Convert this dataframe to an interactive table.\"\n",
              "              style=\"display:none;\">\n",
              "        \n",
              "  <svg xmlns=\"http://www.w3.org/2000/svg\" height=\"24px\"viewBox=\"0 0 24 24\"\n",
              "       width=\"24px\">\n",
              "    <path d=\"M0 0h24v24H0V0z\" fill=\"none\"/>\n",
              "    <path d=\"M18.56 5.44l.94 2.06.94-2.06 2.06-.94-2.06-.94-.94-2.06-.94 2.06-2.06.94zm-11 1L8.5 8.5l.94-2.06 2.06-.94-2.06-.94L8.5 2.5l-.94 2.06-2.06.94zm10 10l.94 2.06.94-2.06 2.06-.94-2.06-.94-.94-2.06-.94 2.06-2.06.94z\"/><path d=\"M17.41 7.96l-1.37-1.37c-.4-.4-.92-.59-1.43-.59-.52 0-1.04.2-1.43.59L10.3 9.45l-7.72 7.72c-.78.78-.78 2.05 0 2.83L4 21.41c.39.39.9.59 1.41.59.51 0 1.02-.2 1.41-.59l7.78-7.78 2.81-2.81c.8-.78.8-2.07 0-2.86zM5.41 20L4 18.59l7.72-7.72 1.47 1.35L5.41 20z\"/>\n",
              "  </svg>\n",
              "      </button>\n",
              "      \n",
              "  <style>\n",
              "    .colab-df-container {\n",
              "      display:flex;\n",
              "      flex-wrap:wrap;\n",
              "      gap: 12px;\n",
              "    }\n",
              "\n",
              "    .colab-df-convert {\n",
              "      background-color: #E8F0FE;\n",
              "      border: none;\n",
              "      border-radius: 50%;\n",
              "      cursor: pointer;\n",
              "      display: none;\n",
              "      fill: #1967D2;\n",
              "      height: 32px;\n",
              "      padding: 0 0 0 0;\n",
              "      width: 32px;\n",
              "    }\n",
              "\n",
              "    .colab-df-convert:hover {\n",
              "      background-color: #E2EBFA;\n",
              "      box-shadow: 0px 1px 2px rgba(60, 64, 67, 0.3), 0px 1px 3px 1px rgba(60, 64, 67, 0.15);\n",
              "      fill: #174EA6;\n",
              "    }\n",
              "\n",
              "    [theme=dark] .colab-df-convert {\n",
              "      background-color: #3B4455;\n",
              "      fill: #D2E3FC;\n",
              "    }\n",
              "\n",
              "    [theme=dark] .colab-df-convert:hover {\n",
              "      background-color: #434B5C;\n",
              "      box-shadow: 0px 1px 3px 1px rgba(0, 0, 0, 0.15);\n",
              "      filter: drop-shadow(0px 1px 2px rgba(0, 0, 0, 0.3));\n",
              "      fill: #FFFFFF;\n",
              "    }\n",
              "  </style>\n",
              "\n",
              "      <script>\n",
              "        const buttonEl =\n",
              "          document.querySelector('#df-a052280c-25d7-4286-bf14-e25d5b6b0a66 button.colab-df-convert');\n",
              "        buttonEl.style.display =\n",
              "          google.colab.kernel.accessAllowed ? 'block' : 'none';\n",
              "\n",
              "        async function convertToInteractive(key) {\n",
              "          const element = document.querySelector('#df-a052280c-25d7-4286-bf14-e25d5b6b0a66');\n",
              "          const dataTable =\n",
              "            await google.colab.kernel.invokeFunction('convertToInteractive',\n",
              "                                                     [key], {});\n",
              "          if (!dataTable) return;\n",
              "\n",
              "          const docLinkHtml = 'Like what you see? Visit the ' +\n",
              "            '<a target=\"_blank\" href=https://colab.research.google.com/notebooks/data_table.ipynb>data table notebook</a>'\n",
              "            + ' to learn more about interactive tables.';\n",
              "          element.innerHTML = '';\n",
              "          dataTable['output_type'] = 'display_data';\n",
              "          await google.colab.output.renderOutput(dataTable, element);\n",
              "          const docLink = document.createElement('div');\n",
              "          docLink.innerHTML = docLinkHtml;\n",
              "          element.appendChild(docLink);\n",
              "        }\n",
              "      </script>\n",
              "    </div>\n",
              "  </div>\n",
              "  "
            ]
          },
          "metadata": {},
          "execution_count": 53
        }
      ]
    },
    {
      "cell_type": "markdown",
      "source": [
        "Now I will add the job description field with the job title and skills."
      ],
      "metadata": {
        "id": "Lx99RaJ-VQ4W"
      }
    },
    {
      "cell_type": "markdown",
      "source": [
        "I will remove the space from the job title so that it is vectorized as one job."
      ],
      "metadata": {
        "id": "jCfcDwjqi5tg"
      }
    },
    {
      "cell_type": "code",
      "source": [
        "df['job title'] = df['jobtitle'].apply(lambda x:\"\".join(x.split()))"
      ],
      "metadata": {
        "id": "8hW-5bvshysc"
      },
      "execution_count": 54,
      "outputs": []
    },
    {
      "cell_type": "code",
      "source": [
        "df['jobdescription'] = df['jobdescription'] + df['jobtitle'] + df['skills']"
      ],
      "metadata": {
        "id": "7epggTIKVLDp"
      },
      "execution_count": 55,
      "outputs": []
    },
    {
      "cell_type": "markdown",
      "source": [
        "Now we will clean up the job description field, keeping only words and numbers in it."
      ],
      "metadata": {
        "id": "JVFXw6zTVjZx"
      }
    },
    {
      "cell_type": "code",
      "source": [
        "def remove_noise(obj):\n",
        "  word_num = list([val for val in obj.split() if val.isalpha() or val.isnumeric()])\n",
        "  new_string = \" \".join(word_num)\n",
        "  return (new_string)"
      ],
      "metadata": {
        "id": "UEEshsmCVgrP"
      },
      "execution_count": 56,
      "outputs": []
    },
    {
      "cell_type": "code",
      "source": [
        "df['jobdescription'] = df['jobdescription'].apply(remove_noise)"
      ],
      "metadata": {
        "id": "Hl7ARc6LVwrR"
      },
      "execution_count": 57,
      "outputs": []
    },
    {
      "cell_type": "markdown",
      "source": [
        "Now, I will turn all the words to lower case and then we will view one of the job description to look into the change."
      ],
      "metadata": {
        "id": "Uog_KsWaV44J"
      }
    },
    {
      "cell_type": "code",
      "source": [
        "df['jobdescription'] = df['jobdescription'].apply(lambda x:x.lower())"
      ],
      "metadata": {
        "id": "7Dsl0ES2V055"
      },
      "execution_count": 58,
      "outputs": []
    },
    {
      "cell_type": "code",
      "source": [
        "df.jobdescription[2]"
      ],
      "metadata": {
        "colab": {
          "base_uri": "https://localhost:8080/",
          "height": 143
        },
        "id": "kyAcjFdWV_Qk",
        "outputId": "68f6b95d-f22e-4538-82a7-a99b9c11d269"
      },
      "execution_count": 59,
      "outputs": [
        {
          "output_type": "execute_result",
          "data": {
            "text/plain": [
              "'job description send me jobs like this as a developer in providing application design guidance and utilizing a thorough understanding of applicable tools and existing analyzes highly complex business designs and writes technical specifications to design or redesign complex computer platforms and provides coding direction to less experienced staff or develops highly complex original acts as an expert technical resource for simulation and analysis verifies program logic by overseeing the preparation of test testing and debugging of oversees overall systems testing and the migration of platforms and applications to develops new departmental technical procedures and user leads allocates and manages resources and manages the work of less experienced assures security and compliance requirements are met for supported area and oversees creation of or updates to and testing of the business continuation years application development and implementation additional job looking for who has experience loading data using sql not disclosed by recruiter software services functional it software application programming maintenance role design developer keyskills sql loader pl sql development plsql procedures application design test data application development desired candidate profile any graduate any specialization postgraduate not required company softtech career infosystem ltd leading client of softtech career infosystem ltd download ppt photo 1 view contact developer sqlit software application programming'"
            ],
            "application/vnd.google.colaboratory.intrinsic+json": {
              "type": "string"
            }
          },
          "metadata": {},
          "execution_count": 59
        }
      ]
    },
    {
      "cell_type": "markdown",
      "source": [
        "Now we will do stemming."
      ],
      "metadata": {
        "id": "xC5aawCOo8Ix"
      }
    },
    {
      "cell_type": "code",
      "source": [
        "from nltk.stem.porter import PorterStemmer\n",
        "ps = PorterStemmer()"
      ],
      "metadata": {
        "id": "fx4TAa_po7zr"
      },
      "execution_count": 66,
      "outputs": []
    },
    {
      "cell_type": "code",
      "source": [
        "def stemming(text):\n",
        "  stemmed = []\n",
        "  for i in text.split():\n",
        "    stemmed.append(ps.stem(i))\n",
        "  \n",
        "  new_string = \" \".join(stemmed)\n",
        "  return new_string"
      ],
      "metadata": {
        "id": "pcn6nwX6pNQw"
      },
      "execution_count": 67,
      "outputs": []
    },
    {
      "cell_type": "code",
      "source": [
        "df['jobdescription'] = df['jobdescription'].apply(stemming)"
      ],
      "metadata": {
        "id": "uDRO1fi9plsh"
      },
      "execution_count": 68,
      "outputs": []
    },
    {
      "cell_type": "markdown",
      "source": [
        "<h3> Start of Vectorization </h3>"
      ],
      "metadata": {
        "id": "UEjooPHpWF3Z"
      }
    },
    {
      "cell_type": "markdown",
      "source": [
        "Now we will perform text vectorization. Here we will find the similarity on the basis of job description, which means we need to calculate the similarity score of different job descriptions. But job description is all written in text, thus we need to perform vectorization on the text to calculate the similarity scores. <br><br>\n",
        "We will convert the job description into vectors. This is called text vectorization. Since we are having 21996 records, which means 21996 different job descriptions, vectorization will create 21996 vectors. So, the closest vector to our selected vector will be chosen for recommendation. <br>\n",
        "We will use the method of bag of words for text vectorization. <br><br>\n",
        "In the process of bag of words, all the words from all the job descriptions are combined. Then from that huge pool of words, we will fetch N number of words with highest frequency. Then we will take every job descriptions and will tally with the occurance of highest number of words in each. At the end, we will get a table with 21996 number of rows and N number of columns, that defines the occurance of every taken words for every movies. Now these movies has got converted to vectors in this space. The closest vectors are taken for prediction.<br><br>\n",
        "All the above procedure of text vectorization is done by the Text vectorizer from scikit learn. Removing the stop words, as it doesn't place any meaning to sentence. Vectorization is applied to the rest of the words."
      ],
      "metadata": {
        "id": "GSKpCsSgjU5D"
      }
    },
    {
      "cell_type": "code",
      "source": [
        "from sklearn.feature_extraction.text import CountVectorizer\n",
        "cv = CountVectorizer(max_features = 10000, stop_words = 'english')"
      ],
      "metadata": {
        "id": "P-kwl8UIWCVA"
      },
      "execution_count": 69,
      "outputs": []
    },
    {
      "cell_type": "code",
      "source": [
        "word_vector = cv.fit_transform(df['jobdescription']).toarray()"
      ],
      "metadata": {
        "id": "TY4FhF5rnSE8"
      },
      "execution_count": 70,
      "outputs": []
    },
    {
      "cell_type": "code",
      "source": [
        "word_vector.shape"
      ],
      "metadata": {
        "colab": {
          "base_uri": "https://localhost:8080/"
        },
        "id": "JMM14yiTqtKI",
        "outputId": "5802fb83-5347-418e-a5fd-f24d2ac82f0c"
      },
      "execution_count": 71,
      "outputs": [
        {
          "output_type": "execute_result",
          "data": {
            "text/plain": [
              "(21996, 10000)"
            ]
          },
          "metadata": {},
          "execution_count": 71
        }
      ]
    },
    {
      "cell_type": "markdown",
      "source": [
        "Hence, the text vectorization is done. Now we will calculate the distance between each of the vectors; this will be the angular distance in between the vectors (cosine angle). The vectors with the lowest distance are similar."
      ],
      "metadata": {
        "id": "xsz_xxDUnSd9"
      }
    },
    {
      "cell_type": "code",
      "source": [
        "from sklearn.metrics.pairwise import cosine_similarity\n",
        "\n",
        "similarity = cosine_similarity(word_vector)"
      ],
      "metadata": {
        "id": "2-shA1Tdkfm4"
      },
      "execution_count": 72,
      "outputs": []
    },
    {
      "cell_type": "markdown",
      "source": [
        "Now, for recommendation I will pass on title. I will get the index of the title and then will get the similarity scores related to that index. Then I will sort all the similarity scores in descending order and will fetch the first 10 out of it as the most similar jobs."
      ],
      "metadata": {
        "id": "KU9eUOVhrDPh"
      }
    },
    {
      "cell_type": "code",
      "source": [
        "def recommend(job):\n",
        "  job_pos = df[df['jobtitle'] == job].index[0]\n",
        "  distances = similarity[job_pos]\n",
        "  job_list = sorted(list(enumerate(distances)), reverse = True, key = lambda x:x[1])[0:10]\n",
        "  Index, Title, Company_Offering, Industry = [], [], [], []\n",
        "  count = 1\n",
        "  for j in job_list:\n",
        "    Index.append(count)\n",
        "    Title.append(df.iloc[j[0]].jobtitle)\n",
        "    Company_Offering.append(df.iloc[j[0]].company)\n",
        "    Industry.append(df.iloc[j[0]].industry)\n",
        "    count = count + 1\n",
        "  return Index, Title, Company_Offering, Industry"
      ],
      "metadata": {
        "id": "GgcfF-VUqyaR"
      },
      "execution_count": 167,
      "outputs": []
    },
    {
      "cell_type": "code",
      "source": [
        "job = input('Enter job title - ')\n",
        "\n",
        "Title, Company_Offering, Industry = recommend(job)\n",
        "job_frame = pd.DataFrame({\n",
        "    'Title' : Title,\n",
        "    'Company Offering' : Company_Offering,\n",
        "    'Industry' : Industry\n",
        "  })\n",
        "print(job_frame)"
      ],
      "metadata": {
        "colab": {
          "base_uri": "https://localhost:8080/",
          "height": 383
        },
        "id": "J7wbCuhSv1aF",
        "outputId": "fbbd3e79-1eaa-4cf8-cdfc-8c96bc8b18ad"
      },
      "execution_count": 166,
      "outputs": [
        {
          "name": "stdout",
          "output_type": "stream",
          "text": [
            "Enter job title - developer\n"
          ]
        },
        {
          "output_type": "error",
          "ename": "TypeError",
          "evalue": "ignored",
          "traceback": [
            "\u001b[0;31m---------------------------------------------------------------------------\u001b[0m",
            "\u001b[0;31mTypeError\u001b[0m                                 Traceback (most recent call last)",
            "\u001b[0;32m<ipython-input-166-495c1189be9f>\u001b[0m in \u001b[0;36m<module>\u001b[0;34m\u001b[0m\n\u001b[1;32m      1\u001b[0m \u001b[0mjob\u001b[0m \u001b[0;34m=\u001b[0m \u001b[0minput\u001b[0m\u001b[0;34m(\u001b[0m\u001b[0;34m'Enter job title - '\u001b[0m\u001b[0;34m)\u001b[0m\u001b[0;34m\u001b[0m\u001b[0;34m\u001b[0m\u001b[0m\n\u001b[1;32m      2\u001b[0m \u001b[0;34m\u001b[0m\u001b[0m\n\u001b[0;32m----> 3\u001b[0;31m \u001b[0mTitle\u001b[0m\u001b[0;34m,\u001b[0m \u001b[0mCompany_Offering\u001b[0m\u001b[0;34m,\u001b[0m \u001b[0mIndustry\u001b[0m \u001b[0;34m=\u001b[0m \u001b[0mrecommend\u001b[0m\u001b[0;34m(\u001b[0m\u001b[0mjob\u001b[0m\u001b[0;34m)\u001b[0m\u001b[0;34m\u001b[0m\u001b[0;34m\u001b[0m\u001b[0m\n\u001b[0m\u001b[1;32m      4\u001b[0m job_frame = pd.DataFrame({\n\u001b[1;32m      5\u001b[0m     \u001b[0;34m'Title'\u001b[0m \u001b[0;34m:\u001b[0m \u001b[0mTitle\u001b[0m\u001b[0;34m,\u001b[0m\u001b[0;34m\u001b[0m\u001b[0;34m\u001b[0m\u001b[0m\n",
            "\u001b[0;32m<ipython-input-165-b7e3de76893c>\u001b[0m in \u001b[0;36mrecommend\u001b[0;34m(job)\u001b[0m\n\u001b[1;32m      1\u001b[0m \u001b[0;32mdef\u001b[0m \u001b[0mrecommend\u001b[0m\u001b[0;34m(\u001b[0m\u001b[0mjob\u001b[0m\u001b[0;34m)\u001b[0m\u001b[0;34m:\u001b[0m\u001b[0;34m\u001b[0m\u001b[0;34m\u001b[0m\u001b[0m\n\u001b[0;32m----> 2\u001b[0;31m   \u001b[0mjob_pos\u001b[0m \u001b[0;34m=\u001b[0m \u001b[0mdf\u001b[0m\u001b[0;34m[\u001b[0m\u001b[0mdf\u001b[0m\u001b[0;34m[\u001b[0m\u001b[0;34m'jobtitle'\u001b[0m\u001b[0;34m]\u001b[0m \u001b[0;34m==\u001b[0m \u001b[0mjob\u001b[0m\u001b[0;34m]\u001b[0m\u001b[0;34m.\u001b[0m\u001b[0mindex\u001b[0m\u001b[0;34m[\u001b[0m\u001b[0;36m0\u001b[0m\u001b[0;34m]\u001b[0m\u001b[0;34m\u001b[0m\u001b[0;34m\u001b[0m\u001b[0m\n\u001b[0m\u001b[1;32m      3\u001b[0m   \u001b[0mdistances\u001b[0m \u001b[0;34m=\u001b[0m \u001b[0msimilarity\u001b[0m\u001b[0;34m[\u001b[0m\u001b[0mjob_pos\u001b[0m\u001b[0;34m]\u001b[0m\u001b[0;34m\u001b[0m\u001b[0;34m\u001b[0m\u001b[0m\n\u001b[1;32m      4\u001b[0m   \u001b[0mjob_list\u001b[0m \u001b[0;34m=\u001b[0m \u001b[0msorted\u001b[0m\u001b[0;34m(\u001b[0m\u001b[0mlist\u001b[0m\u001b[0;34m(\u001b[0m\u001b[0menumerate\u001b[0m\u001b[0;34m(\u001b[0m\u001b[0mdistances\u001b[0m\u001b[0;34m)\u001b[0m\u001b[0;34m)\u001b[0m\u001b[0;34m,\u001b[0m \u001b[0mreverse\u001b[0m \u001b[0;34m=\u001b[0m \u001b[0;32mTrue\u001b[0m\u001b[0;34m,\u001b[0m \u001b[0mkey\u001b[0m \u001b[0;34m=\u001b[0m \u001b[0;32mlambda\u001b[0m \u001b[0mx\u001b[0m\u001b[0;34m:\u001b[0m\u001b[0mx\u001b[0m\u001b[0;34m[\u001b[0m\u001b[0;36m1\u001b[0m\u001b[0;34m]\u001b[0m\u001b[0;34m)\u001b[0m\u001b[0;34m[\u001b[0m\u001b[0;36m0\u001b[0m\u001b[0;34m:\u001b[0m\u001b[0;36m10\u001b[0m\u001b[0;34m]\u001b[0m\u001b[0;34m\u001b[0m\u001b[0;34m\u001b[0m\u001b[0m\n\u001b[1;32m      5\u001b[0m   \u001b[0mIndex\u001b[0m\u001b[0;34m,\u001b[0m \u001b[0mTitle\u001b[0m\u001b[0;34m,\u001b[0m \u001b[0mCompany_Offering\u001b[0m\u001b[0;34m,\u001b[0m \u001b[0mIndustry\u001b[0m \u001b[0;34m=\u001b[0m \u001b[0;34m[\u001b[0m\u001b[0;34m]\u001b[0m\u001b[0;34m,\u001b[0m \u001b[0;34m[\u001b[0m\u001b[0;34m]\u001b[0m\u001b[0;34m,\u001b[0m \u001b[0;34m[\u001b[0m\u001b[0;34m]\u001b[0m\u001b[0;34m,\u001b[0m \u001b[0;34m[\u001b[0m\u001b[0;34m]\u001b[0m\u001b[0;34m\u001b[0m\u001b[0;34m\u001b[0m\u001b[0m\n",
            "\u001b[0;31mTypeError\u001b[0m: 'bool' object is not subscriptable"
          ]
        }
      ]
    },
    {
      "cell_type": "markdown",
      "source": [
        "Thus, our job recommendation is complete :)"
      ],
      "metadata": {
        "id": "M-YjeEBOztrb"
      }
    },
    {
      "cell_type": "code",
      "source": [],
      "metadata": {
        "id": "-VScyrZMyKue"
      },
      "execution_count": null,
      "outputs": []
    }
  ]
}